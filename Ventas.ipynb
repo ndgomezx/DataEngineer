{
 "cells": [
  {
   "cell_type": "code",
   "execution_count": 1,
   "metadata": {},
   "outputs": [],
   "source": [
    "import pandas as pd  \n",
    "from datetime import datetime"
   ]
  },
  {
   "cell_type": "code",
   "execution_count": 2,
   "metadata": {},
   "outputs": [],
   "source": [
    "tmpfile    = \"temp.tmp\"               # file used to store all extracted data\n",
    "logfile    = \"logfile.txt\"            # all event logs will be stored in this file\n",
    "targetfile = \"transformed_data.csv\"   # file where transformed data is stored\n"
   ]
  },
  {
   "cell_type": "code",
   "execution_count": 6,
   "metadata": {},
   "outputs": [],
   "source": [
    "def extract_from_csv(file_to_process):\n",
    "    dataframe = pd.read_csv(file_to_process, index_col=0)\n",
    "    return dataframe\n"
   ]
  },
  {
   "cell_type": "code",
   "execution_count": 8,
   "metadata": {},
   "outputs": [],
   "source": [
    "def transform_prod(df):\n",
    "    ListaPrecio =  listas[[\"Estilo\", \"Precio\", \"Propio\" ]]\n",
    "    ListaPrecio = ListaPrecio.rename(columns={'Estilo': 'Producto'})\n",
    "    return ListaPrecio"
   ]
  },
  {
   "cell_type": "code",
   "execution_count": 11,
   "metadata": {},
   "outputs": [],
   "source": [
    "def transform_cod(df):\n",
    "    ListaCOD =  listas[[\"Tipo\", \"Costo\" ]]\n",
    "    ListaCOD = ListaCOD.rename(columns={'Tipo': 'Tipo Envió'})\n",
    "    return ListaCOD"
   ]
  },
  {
   "cell_type": "code",
   "execution_count": 12,
   "metadata": {},
   "outputs": [],
   "source": [
    "def calcular_recargo(tipo_envio, total, costo):\n",
    "    if tipo_envio == 'Mensajero':\n",
    "        return 0  # Ejemplo: 10% de recargo para Express\n",
    "    elif tipo_envio == 'Forza':\n",
    "        return (total-costo) * 0.035  # Ejemplo: 5% de recargo para Forza\n",
    "    else:\n",
    "        return  (total) * 0.04   # No hay recargo para otros tipos de envío"
   ]
  },
  {
   "cell_type": "code",
   "execution_count": null,
   "metadata": {},
   "outputs": [],
   "source": [
    "def transform_sales(dfSales,dfProd,dfDel)\n",
    "    #adding new column\n",
    "    df['Oferta']='No'\n",
    "    sales_pre =  test[[\"Nombre cliente\", \"Fecha\", \"Teléfono\", \"Producto\", \"Cantidad\", \"Total \" , \"Departamento\", \"Tipo Envió\",\"Color y talla \",\"Oferta\"]]\n",
    "    sales_pre = pd.to_datetime(sales_pre['Fecha'])\n",
    "    sales_pre =  sales_pre.merge(ListaPrecio[['Producto', 'Precio', 'Propio']], on='Producto', how='left')\n",
    "    \n",
    "    \n",
    "    return sales_pre\n",
    "\n",
    "    "
   ]
  },
  {
   "cell_type": "code",
   "execution_count": null,
   "metadata": {},
   "outputs": [],
   "source": []
  },
  {
   "cell_type": "code",
   "execution_count": null,
   "metadata": {},
   "outputs": [],
   "source": [
    "\n",
    "    dfAsales = extract_from_csv('https://docs.google.com/spreadsheets/d/e/2PACX-1vRsVWDZL82x4rkC8sbSb3PZJnowCrZbfBpAp63FiuTPTdCEAzhj0ckqvyhRqSV-jkPsrhkroSxIgV1l/pub?gid=942643602&single=true&output=csv')\n",
    "    df =extract_from_csv('https://docs.google.com/spreadsheets/d/e/2PACX-1vRsVWDZL82x4rkC8sbSb3PZJnowCrZbfBpAp63FiuTPTdCEAzhj0ckqvyhRqSV-jkPsrhkroSxIgV1l/pub?gid=585777359&single=true&output=csv')\n"
   ]
  },
  {
   "cell_type": "code",
   "execution_count": 13,
   "metadata": {},
   "outputs": [],
   "source": [
    "def guias_cargo(df,Filename):\n",
    "    Cargo_guias = pd.read_excel(Filename)\n",
    "    Cargo_guias = Cargo_guias.rename(columns={'Destinatario': 'Nombre Envio'})\n",
    "    df['Nombre Envio'] = df['Nombre Envio'].str.replace('[^a-zA-Z0-9\\s]', '', regex=True)  # Remove special characters\n",
    "    df['Nombre Envio'] = df['Nombre Envio'].str.upper()  # Change to uppercase\n",
    "    df =  df.merge(Cargo_guias[['Nombre Envio', 'Estado']], on='Nombre Envio', how='left')\n",
    "    return df\n",
    "\n",
    "def guias_forza(df,Filename):\n",
    "    Forza_guias = pd.read_excel(Filename)\n",
    "\n",
    "    Forza_guias = Forza_guias.rename(columns={'Telefono Destino': 'Telefono'})\n",
    "    df =  df.merge(Forza_guias[['Telefono', 'Estado']], on='Telefono', how='left')\n",
    "    return df\n",
    "\n",
    "def validate_guias(filenameSales, FilenameForza, FilenameCargo, filenameSalesOut):\n",
    "    df_sales = pd.read_excel(filenameSales)\n",
    "    df_sales =guias_cargo(df_sales, FilenameCargo)\n",
    "    df_sales =guias_forza(df_sales, FilenameForza)\n",
    "    df_sales.to_excel(filenameSalesOut, index=False)\n",
    "    return validate_guias\n",
    "    "
   ]
  },
  {
   "cell_type": "code",
   "execution_count": 20,
   "metadata": {},
   "outputs": [
    {
     "data": {
      "text/plain": [
       "<function __main__.validate_guias(filenameSales, FilenameForza, FilenameCargo, filenameSalesOut)>"
      ]
     },
     "execution_count": 20,
     "metadata": {},
     "output_type": "execute_result"
    }
   ],
   "source": [
    "validate_guias('Agos-2023.xlsx','Agos-Forza.xlsx','Agos-cargo.xlsx','Sales_Ago_Check.xlsx')"
   ]
  }
 ],
 "metadata": {
  "kernelspec": {
   "display_name": "Python 3",
   "language": "python",
   "name": "python3"
  },
  "language_info": {
   "codemirror_mode": {
    "name": "ipython",
    "version": 3
   },
   "file_extension": ".py",
   "mimetype": "text/x-python",
   "name": "python",
   "nbconvert_exporter": "python",
   "pygments_lexer": "ipython3",
   "version": "3.8.3"
  }
 },
 "nbformat": 4,
 "nbformat_minor": 4
}
